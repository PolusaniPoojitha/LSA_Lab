{
 "cells": [
  {
   "cell_type": "code",
   "execution_count": 90,
   "metadata": {
    "collapsed": false
   },
   "outputs": [],
   "source": [
    "import nltk\n",
    "from bs4 import BeautifulSoup\n",
    "from nltk.corpus import stopwords\n",
    "from sklearn.feature_extraction.text import TfidfVectorizer\n",
    "from sklearn.decomposition import TruncatedSVD\n",
    "from sklearn.datasets import fetch_20newsgroups\n",
    "categories = ['sci.space']\n",
    "dataset = fetch_20newsgroups(subset='all',shuffle=True, random_state=42, categories=categories)\n",
    "corpus = dataset.data"
   ]
  },
  {
   "cell_type": "code",
   "execution_count": 91,
   "metadata": {
    "collapsed": false
   },
   "outputs": [],
   "source": [
    "corpus = [x.lower() for x in corpus]"
   ]
  },
  {
   "cell_type": "code",
   "execution_count": 155,
   "metadata": {
    "collapsed": false
   },
   "outputs": [
    {
     "name": "stdout",
     "output_type": "stream",
     "text": [
      "[nltk_data] Downloading package stopwords to\n",
      "[nltk_data]     C:\\Users\\Poojitha\\AppData\\Roaming\\nltk_data...\n",
      "[nltk_data]   Package stopwords is already up-to-date!\n"
     ]
    }
   ],
   "source": [
    "nltk.download('stopwords')\n",
    "stopset=set(stopwords.words('english'))\n",
    "stopset.update(['\\n','university','\\t','>','edu','com','b30','ingr','catbyte','dtmedin','catbyte','b30',\n",
    "                'organization','article','system','ca','prb', 'henry','___','nntp','uiuc','com','would',\n",
    "                'may','hst','go','us','pat','writes','first','us','could','lines','see','time','like','long',\n",
    "               'use','00 00 ut','dseg ti','things','access','nsmca','new','net','posting','many','eng','make','cost','long',\n",
    "               'people','new','know','use','reply','work','enough','ray','something','high','way','one','much','get','good',\n",
    "               '10','host','express','sky','data','going','posting','_____','__','commercial','zoo','93','since','market',\n",
    "               'ground','real','command'])\n"
   ]
  },
  {
   "cell_type": "code",
   "execution_count": 156,
   "metadata": {
    "collapsed": false
   },
   "outputs": [
    {
     "data": {
      "text/plain": [
       "'from: aws@iti.org (allen w. sherzer)\\nsubject: re: orbital repairstation\\norganization: evil geniuses for a better tomorrow\\nlines: 20\\n\\nin article <c5hcbo.joy@zoo.toronto.edu> henry@zoo.toronto.edu (henry spencer) writes:\\n\\n>the biggest problem with this is that all orbits are not alike.  it can\\n>actually be more expensive to reach a satellite from another orbit than\\n>from the ground.  \\n\\nbut with cheaper fuel from space based sources it will be cheaper to \\nreach more orbits than from the ground.\\n\\nalso remember, that the presence of a repair/supply facility adds value\\nto the space around it. if you can put your satellite in an orbit where it\\ncan be reached by a ready source of supply you can make it cheaper and gain\\nbenefit from economies of scale.\\n\\n  allen\\n-- \\n+---------------------------------------------------------------------------+\\n| lady astor:   \"sir, if you were my husband i would poison your coffee!\"   |\\n| w. churchill: \"madam, if you were my wife, i would drink it.\"             |\\n+----------------------58 days to first flight of dcx-----------------------+\\n'"
      ]
     },
     "execution_count": 156,
     "metadata": {},
     "output_type": "execute_result"
    }
   ],
   "source": [
    "corpus[0]"
   ]
  },
  {
   "cell_type": "code",
   "execution_count": 157,
   "metadata": {
    "collapsed": false
   },
   "outputs": [],
   "source": [
    "vectorizer = TfidfVectorizer(stop_words=stopset, use_idf=True, ngram_range=(1,3))\n",
    "X=vectorizer.fit_transform(corpus)"
   ]
  },
  {
   "cell_type": "code",
   "execution_count": 158,
   "metadata": {
    "collapsed": false
   },
   "outputs": [
    {
     "data": {
      "text/plain": [
       "<1x242722 sparse matrix of type '<class 'numpy.float64'>'\n",
       "\twith 206 stored elements in Compressed Sparse Row format>"
      ]
     },
     "execution_count": 158,
     "metadata": {},
     "output_type": "execute_result"
    }
   ],
   "source": [
    "X[0]"
   ]
  },
  {
   "cell_type": "code",
   "execution_count": 159,
   "metadata": {
    "collapsed": false
   },
   "outputs": [
    {
     "name": "stdout",
     "output_type": "stream",
     "text": [
      "  (0, 63564)\t0.0556348967909\n",
      "  (0, 14638)\t0.0763756203862\n",
      "  (0, 72986)\t0.0763756203862\n",
      "  (0, 238140)\t0.0763756203862\n",
      "  (0, 130071)\t0.0568846891828\n",
      "  (0, 50503)\t0.0568846891828\n",
      "  (0, 52474)\t0.0568846891828\n",
      "  (0, 164600)\t0.0568846891828\n",
      "  (0, 106482)\t0.0568846891828\n",
      "  (0, 196878)\t0.0568846891828\n",
      "  (0, 31934)\t0.0568846891828\n",
      "  (0, 120283)\t0.0568846891828\n",
      "  (0, 23984)\t0.0575659007671\n",
      "  (0, 188966)\t0.0809316492799\n",
      "  (0, 75253)\t0.0809316492799\n",
      "  (0, 38451)\t0.0809316492799\n",
      "  (0, 94430)\t0.0809316492799\n",
      "  (0, 49876)\t0.0809316492799\n",
      "  (0, 212583)\t0.0809316492799\n",
      "  (0, 200490)\t0.0809316492799\n",
      "  (0, 177094)\t0.0809316492799\n",
      "  (0, 176651)\t0.0809316492799\n",
      "  (0, 154022)\t0.0809316492799\n",
      "  (0, 187827)\t0.0809316492799\n",
      "  (0, 173852)\t0.0809316492799\n",
      "  :\t:\n",
      "  (0, 187571)\t0.0746325284503\n",
      "  (0, 176546)\t0.102555500155\n",
      "  (0, 83476)\t0.0449895993875\n",
      "  (0, 20361)\t0.0363192663323\n",
      "  (0, 23896)\t0.0809316492799\n",
      "  (0, 154636)\t0.103372793847\n",
      "  (0, 169135)\t0.0368622004338\n",
      "  (0, 39458)\t0.0628471199699\n",
      "  (0, 204511)\t0.0354035657917\n",
      "  (0, 222819)\t0.0716027226186\n",
      "  (0, 116534)\t0.0653544836047\n",
      "  (0, 44753)\t0.0809316492799\n",
      "  (0, 7685)\t0.0351141965859\n",
      "  (0, 222323)\t0.0530098718733\n",
      "  (0, 38828)\t0.0327989154034\n",
      "  (0, 95940)\t0.0562424258172\n",
      "  (0, 82220)\t0.0539875795471\n",
      "  (0, 180440)\t0.0731430664423\n",
      "  (0, 154209)\t0.0394813714571\n",
      "  (0, 210312)\t0.0112365498354\n",
      "  (0, 194417)\t0.0484538429796\n",
      "  (0, 23958)\t0.0877956281716\n",
      "  (0, 154968)\t0.0389331383459\n",
      "  (0, 114987)\t0.0497773179295\n",
      "  (0, 35193)\t0.0501340637603\n"
     ]
    }
   ],
   "source": [
    "print(X[0])"
   ]
  },
  {
   "cell_type": "code",
   "execution_count": 160,
   "metadata": {
    "collapsed": false
   },
   "outputs": [
    {
     "data": {
      "text/plain": [
       "(987, 242722)"
      ]
     },
     "execution_count": 160,
     "metadata": {},
     "output_type": "execute_result"
    }
   ],
   "source": [
    "X.shape"
   ]
  },
  {
   "cell_type": "code",
   "execution_count": 161,
   "metadata": {
    "collapsed": false
   },
   "outputs": [
    {
     "data": {
      "text/plain": [
       "TruncatedSVD(algorithm='randomized', n_components=27, n_iter=100,\n",
       "       random_state=None, tol=0.0)"
      ]
     },
     "execution_count": 161,
     "metadata": {},
     "output_type": "execute_result"
    }
   ],
   "source": [
    "lsa=TruncatedSVD(n_components=27, n_iter=100)\n",
    "lsa.fit(X)"
   ]
  },
  {
   "cell_type": "code",
   "execution_count": 162,
   "metadata": {
    "collapsed": false
   },
   "outputs": [
    {
     "data": {
      "text/plain": [
       "array([ 0.01397653,  0.00072505,  0.00029069, ...,  0.00205976,\n",
       "        0.00205976,  0.00205976])"
      ]
     },
     "execution_count": 162,
     "metadata": {},
     "output_type": "execute_result"
    }
   ],
   "source": [
    "lsa.components_[0]"
   ]
  },
  {
   "cell_type": "code",
   "execution_count": 163,
   "metadata": {
    "collapsed": false
   },
   "outputs": [
    {
     "name": "stdout",
     "output_type": "stream",
     "text": [
      "Concept 0:\n",
      "space\n",
      "nasa\n",
      "gov\n",
      "toronto\n",
      "nasa gov\n",
      "alaska\n",
      "shuttle\n",
      "jpl\n",
      "moon\n",
      "orbit\n",
      " \n",
      "Concept 1:\n",
      "gov\n",
      "mission\n",
      "orbit\n",
      "software\n",
      "available\n",
      "nasa\n",
      "jpl nasa\n",
      "kelvin\n",
      "jpl nasa gov\n",
      "information\n",
      " \n",
      "Concept 2:\n",
      "space\n",
      "shuttle\n",
      "moon\n",
      "launch\n",
      "also\n",
      "solar\n",
      "program\n",
      "well\n",
      "sun\n",
      "venus\n",
      " \n",
      "Concept 3:\n",
      "spacecraft\n",
      "jpl\n",
      "mission\n",
      "planet\n",
      "space\n",
      "venus\n",
      "probes\n",
      "kilometers\n",
      "earth\n",
      "atmosphere\n",
      " \n",
      "Concept 4:\n",
      "space\n",
      "nasa gov\n",
      "jpl\n",
      "launch\n",
      "even\n",
      "flight\n",
      "international\n",
      "gov\n",
      "speak\n",
      "station\n",
      " \n",
      "Concept 5:\n",
      "toronto\n",
      "launch\n",
      "toronto zoology\n",
      "zoology\n",
      "kelvin\n",
      "satellite\n",
      "software\n",
      "part\n",
      "mission\n",
      "space\n",
      " \n",
      "Concept 6:\n",
      "moon\n",
      "even\n",
      "jpl\n",
      "venus\n",
      "surface\n",
      "billion\n",
      "point\n",
      "aurora\n",
      "solar\n",
      "jupiter\n",
      " \n",
      "Concept 7:\n",
      "moon\n",
      "shuttle\n",
      "nasa\n",
      "world\n",
      "venus\n",
      "day\n",
      "station\n",
      "dseg\n",
      "spacecraft\n",
      "news\n",
      " \n",
      "Concept 8:\n",
      "toronto\n",
      "space\n",
      "nasa\n",
      "power\n",
      "distribution\n",
      "nasa gov\n",
      "also\n",
      "better\n",
      "anyone\n",
      "available\n",
      " \n",
      "Concept 9:\n",
      "orbit\n",
      "satellite\n",
      "alaska\n",
      "program\n",
      "launch\n",
      "planet\n",
      "station\n",
      "power\n",
      "nasa\n",
      "jpl\n",
      " \n",
      "Concept 10:\n",
      "year\n",
      "even\n",
      "baalke\n",
      "space\n",
      "put\n",
      "loss\n",
      "international\n",
      "moon\n",
      "dc\n",
      "umd\n",
      " \n",
      "Concept 11:\n",
      "nasa\n",
      "solar\n",
      "year\n",
      "satellite\n",
      "part\n",
      "nasa gov\n",
      "alaska\n",
      "better\n",
      "dseg ti\n",
      "jet\n",
      " \n",
      "Concept 12:\n",
      "solar\n",
      "said\n",
      "sci\n",
      "lunar\n",
      "fuel\n",
      "00 04\n",
      "shuttle\n",
      "program\n",
      "man\n",
      "power\n",
      " \n",
      "Concept 13:\n",
      "nasa\n",
      "aurora\n",
      "think\n",
      "two\n",
      "gov\n",
      "planet\n",
      "venus\n",
      "toronto spencer\n",
      "well\n",
      "mission\n",
      " \n",
      "Concept 14:\n",
      "digex\n",
      "science\n",
      "launch\n",
      "shuttle\n",
      "well\n",
      "ti\n",
      "mars\n",
      "idea\n",
      "ftp\n",
      "toronto\n",
      " \n",
      "Concept 15:\n",
      "planet\n",
      "moon\n",
      "spacecraft\n",
      "propulsion\n",
      "pluto\n",
      "earth\n",
      "sun\n",
      "launch\n",
      "right\n",
      "world\n",
      " \n",
      "Concept 16:\n",
      "nasa\n",
      "moon\n",
      "propulsion\n",
      "higgins\n",
      "spacecraft\n",
      "design\n",
      "actually\n",
      "orbit\n",
      "titan\n",
      "single\n",
      " \n",
      "Concept 17:\n",
      "toronto\n",
      "jpl nasa\n",
      "launch\n",
      "information\n",
      "anyone\n",
      "cs\n",
      "lunar\n",
      "part\n",
      "baalke\n",
      "news\n",
      " \n",
      "Concept 18:\n",
      "gov\n",
      "earth\n",
      "part\n",
      "sci\n",
      "idea\n",
      "science\n",
      "propulsion\n",
      "distribution\n",
      "alaska\n",
      "better\n",
      " \n",
      "Concept 19:\n",
      "think\n",
      "digex\n",
      "orbit\n",
      "nasa gov\n",
      "day\n",
      "year\n",
      "space\n",
      "two\n",
      "atmosphere\n",
      "ti\n",
      " \n",
      "Concept 20:\n",
      "nasa\n",
      "20\n",
      "kelvin\n",
      "distribution\n",
      "station\n",
      "project\n",
      "using\n",
      "dc\n",
      "space station\n",
      "ron\n",
      " \n",
      "Concept 21:\n",
      "lunar\n",
      "world\n",
      "better\n",
      "power\n",
      "station\n",
      "aurora\n",
      "umd\n",
      "baalke\n",
      "au\n",
      "put\n",
      " \n",
      "Concept 22:\n",
      "also\n",
      "mission\n",
      "gov\n",
      "program\n",
      "distribution\n",
      "space\n",
      "man\n",
      "cs\n",
      "subject\n",
      "two\n",
      " \n",
      "Concept 23:\n",
      "space\n",
      "nasa gov\n",
      "toronto zoology\n",
      "zoology\n",
      "either\n",
      "digex\n",
      "design\n",
      "life\n",
      "large\n",
      "institute\n",
      " \n",
      "Concept 24:\n",
      "orbit\n",
      "also\n",
      "nasa gov\n",
      "jpl\n",
      "toronto zoology\n",
      "zoology\n",
      "shuttle\n",
      "nasa\n",
      "jpl nasa\n",
      "around\n",
      " \n",
      "Concept 25:\n",
      "nasa\n",
      "space\n",
      "mission\n",
      "orbit\n",
      "station\n",
      "digex\n",
      "also\n",
      "years\n",
      "ron\n",
      "15\n",
      " \n",
      "Concept 26:\n",
      "00 04\n",
      "nasa\n",
      "also\n",
      "00\n",
      "toronto\n",
      "sci\n",
      "00 04 gmt\n",
      "science\n",
      "world\n",
      "program\n",
      " \n"
     ]
    }
   ],
   "source": [
    "terms = vectorizer.get_feature_names()\n",
    "for i, comp in enumerate(lsa.components_):\n",
    "    termsInComp = zip (terms, comp)\n",
    "    sortedTerms = sorted(termsInComp, key=lambda x: x[1], reverse=True)[:10]\n",
    "    print(\"Concept %d:\" %i)\n",
    "    for term in sortedTerms:\n",
    "        print(term[0])\n",
    "    print(\" \")"
   ]
  },
  {
   "cell_type": "markdown",
   "metadata": {},
   "source": [
    "It's evident from the above analysis that all spoke about the missions relations to Nasa and several parameters regarding space travel."
   ]
  },
  {
   "cell_type": "code",
   "execution_count": null,
   "metadata": {
    "collapsed": true
   },
   "outputs": [],
   "source": []
  }
 ],
 "metadata": {
  "anaconda-cloud": {},
  "kernelspec": {
   "display_name": "Python [Root]",
   "language": "python",
   "name": "Python [Root]"
  },
  "language_info": {
   "codemirror_mode": {
    "name": "ipython",
    "version": 3
   },
   "file_extension": ".py",
   "mimetype": "text/x-python",
   "name": "python",
   "nbconvert_exporter": "python",
   "pygments_lexer": "ipython3",
   "version": "3.5.2"
  }
 },
 "nbformat": 4,
 "nbformat_minor": 0
}
